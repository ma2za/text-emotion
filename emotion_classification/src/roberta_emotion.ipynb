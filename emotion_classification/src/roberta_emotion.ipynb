{
  "nbformat": 4,
  "nbformat_minor": 0,
  "metadata": {
    "colab": {
      "provenance": []
    },
    "kernelspec": {
      "name": "python3",
      "display_name": "Python 3"
    },
    "language_info": {
      "name": "python"
    },
    "accelerator": "GPU",
    "gpuClass": "standard"
  },
  "cells": [
    {
      "cell_type": "code",
      "source": [
        "!pip install -q transformers datasets evaluate wandb"
      ],
      "metadata": {
        "id": "iTvyV2vhFjJ3"
      },
      "execution_count": null,
      "outputs": []
    },
    {
      "cell_type": "code",
      "execution_count": null,
      "metadata": {
        "id": "MTZp94-9A8Mf"
      },
      "outputs": [],
      "source": [
        "from datasets import load_dataset\n",
        "\n",
        "from evaluate import evaluator\n",
        "\n",
        "from huggingface_hub import notebook_login\n",
        "\n",
        "from sklearn.metrics import accuracy_score, f1_score\n",
        "\n",
        "import torch\n",
        "\n",
        "from transformers import AutoTokenizer, AutoModelForSequenceClassification\n",
        "from transformers import Trainer, TrainingArguments\n",
        "\n",
        "import wandb"
      ]
    },
    {
      "cell_type": "code",
      "source": [
        "%env WANDB_PROJECT=emotion_classifier"
      ],
      "metadata": {
        "id": "FvvXTHMPrGjt"
      },
      "execution_count": null,
      "outputs": []
    },
    {
      "cell_type": "code",
      "source": [
        "wandb.login()"
      ],
      "metadata": {
        "id": "KnIPHQ7-qsnQ"
      },
      "execution_count": null,
      "outputs": []
    },
    {
      "cell_type": "code",
      "source": [
        "notebook_login()"
      ],
      "metadata": {
        "id": "nUeYzOHrq26P"
      },
      "execution_count": null,
      "outputs": []
    },
    {
      "cell_type": "code",
      "source": [
        "device = \"cuda\" if torch.cuda.is_available() else \"cpu\""
      ],
      "metadata": {
        "id": "wq8FexcaGMGw"
      },
      "execution_count": null,
      "outputs": []
    },
    {
      "cell_type": "markdown",
      "source": [
        "## Tokenizer"
      ],
      "metadata": {
        "id": "dIHT0h-uvy_i"
      }
    },
    {
      "cell_type": "code",
      "source": [
        "tokenizer = AutoTokenizer.from_pretrained(\"roberta-base\")"
      ],
      "metadata": {
        "id": "hoUKEHGTajux"
      },
      "execution_count": null,
      "outputs": []
    },
    {
      "cell_type": "code",
      "source": [
        "def tokenization(sample):\n",
        "    return tokenizer(sample[\"text\"], padding=True, truncation=True)"
      ],
      "metadata": {
        "id": "WtFKa4SVageE"
      },
      "execution_count": null,
      "outputs": []
    },
    {
      "cell_type": "markdown",
      "source": [
        "## Dataset"
      ],
      "metadata": {
        "id": "tZaZE0YPvw0Y"
      }
    },
    {
      "cell_type": "code",
      "source": [
        "dataset = load_dataset(\"emotion\")"
      ],
      "metadata": {
        "id": "XLOQE-yrGjhZ"
      },
      "execution_count": null,
      "outputs": []
    },
    {
      "cell_type": "code",
      "source": [
        "dataset = dataset.map(tokenization, batched=True, batch_size=None)"
      ],
      "metadata": {
        "id": "N1Y-r15obTPp"
      },
      "execution_count": null,
      "outputs": []
    },
    {
      "cell_type": "code",
      "source": [
        "dataset.set_format(\"torch\", columns=[\"input_ids\", \"attention_mask\", \"label\"])"
      ],
      "metadata": {
        "id": "YGsjKIq_wNWa"
      },
      "execution_count": null,
      "outputs": []
    },
    {
      "cell_type": "code",
      "source": [
        "id2label =  {\n",
        "    0: \"sadness\",\n",
        "    1: \"joy\",\n",
        "    2: \"love\",\n",
        "    3: \"anger\",\n",
        "    4: \"fear\",\n",
        "    5: \"surprise\"\n",
        "  }\n",
        "\n",
        "label2id = {\n",
        "    \"sadness\": 0,\n",
        "    \"joy\": 1,\n",
        "    \"love\": 2,\n",
        "    \"anger\": 3,\n",
        "    \"fear\": 4,\n",
        "    \"surprise\": 5\n",
        "  }"
      ],
      "metadata": {
        "id": "wrpWsH2-rFk0"
      },
      "execution_count": null,
      "outputs": []
    },
    {
      "cell_type": "markdown",
      "source": [
        "## Model"
      ],
      "metadata": {
        "id": "vbw8tpwfwDyE"
      }
    },
    {
      "cell_type": "code",
      "source": [
        "model = AutoModelForSequenceClassification.from_pretrained(\"roberta-base\", num_labels=6,\n",
        "                                                           id2label=id2label, label2id=label2id).to(device)"
      ],
      "metadata": {
        "id": "K3iSeEoRoJLb"
      },
      "execution_count": null,
      "outputs": []
    },
    {
      "cell_type": "markdown",
      "source": [
        "## Training"
      ],
      "metadata": {
        "id": "qGXulHvDwQq0"
      }
    },
    {
      "cell_type": "code",
      "source": [
        "def compute_metrics(pred):\n",
        "    labels = pred.label_ids\n",
        "    preds = pred.predictions.argmax(-1)\n",
        "    f1 = f1_score(labels, preds, average=\"weighted\")\n",
        "    acc = accuracy_score(labels, preds)\n",
        "    return {\"accuracy\": acc, \"f1\": f1}"
      ],
      "metadata": {
        "id": "-Y8b4S-enJ3v"
      },
      "execution_count": null,
      "outputs": []
    },
    {
      "cell_type": "code",
      "source": [
        "batch_size = 64\n",
        "training_args = TrainingArguments(output_dir=\"results\",\n",
        "                                  num_train_epochs=8,\n",
        "                                  learning_rate=2e-5,\n",
        "                                  per_device_train_batch_size=batch_size,\n",
        "                                  per_device_eval_batch_size=batch_size,\n",
        "                                  load_best_model_at_end=True,\n",
        "                                  metric_for_best_model=\"f1\",\n",
        "                                  weight_decay=0.01,\n",
        "                                  evaluation_strategy=\"epoch\",\n",
        "                                  save_strategy=\"epoch\",\n",
        "                                  report_to=\"wandb\",\n",
        "                                  disable_tqdm=False)"
      ],
      "metadata": {
        "id": "Uv01uCmCnK8b"
      },
      "execution_count": null,
      "outputs": []
    },
    {
      "cell_type": "code",
      "source": [
        "trainer = Trainer(model=model, args=training_args,\n",
        "                  compute_metrics=compute_metrics,\n",
        "                  train_dataset=dataset[\"train\"],\n",
        "                  eval_dataset=dataset[\"validation\"])\n",
        "trainer.train()\n",
        "\n",
        "wandb.finish()"
      ],
      "metadata": {
        "id": "uBrrPyZHnxIC",
        "colab": {
          "base_uri": "https://localhost:8080/",
          "height": 201
        },
        "outputId": "4a5487ed-8942-459f-c748-512c214336e3"
      },
      "execution_count": null,
      "outputs": [
        {
          "output_type": "display_data",
          "data": {
            "text/plain": [
              "<IPython.core.display.HTML object>"
            ],
            "text/html": [
              "\n",
              "    <div>\n",
              "      \n",
              "      <progress value='1229' max='2000' style='width:300px; height:20px; vertical-align: middle;'></progress>\n",
              "      [1229/2000 18:20 < 11:31, 1.12 it/s, Epoch 4.91/8]\n",
              "    </div>\n",
              "    <table border=\"1\" class=\"dataframe\">\n",
              "  <thead>\n",
              " <tr style=\"text-align: left;\">\n",
              "      <th>Epoch</th>\n",
              "      <th>Training Loss</th>\n",
              "      <th>Validation Loss</th>\n",
              "      <th>Accuracy</th>\n",
              "      <th>F1</th>\n",
              "    </tr>\n",
              "  </thead>\n",
              "  <tbody>\n",
              "    <tr>\n",
              "      <td>1</td>\n",
              "      <td>No log</td>\n",
              "      <td>0.245056</td>\n",
              "      <td>0.916000</td>\n",
              "      <td>0.916588</td>\n",
              "    </tr>\n",
              "    <tr>\n",
              "      <td>2</td>\n",
              "      <td>0.442700</td>\n",
              "      <td>0.168471</td>\n",
              "      <td>0.929500</td>\n",
              "      <td>0.930128</td>\n",
              "    </tr>\n",
              "    <tr>\n",
              "      <td>3</td>\n",
              "      <td>0.442700</td>\n",
              "      <td>0.136620</td>\n",
              "      <td>0.936000</td>\n",
              "      <td>0.936377</td>\n",
              "    </tr>\n",
              "    <tr>\n",
              "      <td>4</td>\n",
              "      <td>0.124000</td>\n",
              "      <td>0.131442</td>\n",
              "      <td>0.934000</td>\n",
              "      <td>0.934007</td>\n",
              "    </tr>\n",
              "  </tbody>\n",
              "</table><p>"
            ]
          },
          "metadata": {}
        }
      ]
    },
    {
      "cell_type": "code",
      "source": [
        "model.push_to_hub(\"roberta-emotion\")\n",
        "tokenizer.push_to_hub(\"roberta-emotion\")"
      ],
      "metadata": {
        "id": "H2gG6GkffP7u"
      },
      "execution_count": null,
      "outputs": []
    },
    {
      "cell_type": "markdown",
      "source": [
        "## Evaluation"
      ],
      "metadata": {
        "id": "gkzTXnTWwVbT"
      }
    },
    {
      "cell_type": "code",
      "source": [
        "task_evaluator = evaluator(\"text-classification\")"
      ],
      "metadata": {
        "id": "nG4Csiq44C_u"
      },
      "execution_count": null,
      "outputs": []
    },
    {
      "cell_type": "code",
      "source": [
        "results = task_evaluator.compute(\n",
        "    model_or_pipeline=model,\n",
        "    tokenizer=tokenizer,\n",
        "    data=\"emotion\",\n",
        "    subset=\"split\",\n",
        "    split=\"test\",\n",
        "    metric=\"accuracy\",\n",
        "    label_mapping=label2id,\n",
        "    strategy=\"bootstrap\",\n",
        "    n_resamples=10,\n",
        "    random_state=0\n",
        ")"
      ],
      "metadata": {
        "id": "Q4sBChKK6wnp"
      },
      "execution_count": null,
      "outputs": []
    },
    {
      "cell_type": "code",
      "source": [
        "results"
      ],
      "metadata": {
        "id": "Igw71enW7Bo5"
      },
      "execution_count": null,
      "outputs": []
    },
    {
      "cell_type": "code",
      "source": [],
      "metadata": {
        "id": "YgYcmLHw7CR1"
      },
      "execution_count": null,
      "outputs": []
    }
  ]
}