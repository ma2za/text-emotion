{
  "nbformat": 4,
  "nbformat_minor": 0,
  "metadata": {
    "colab": {
      "provenance": [],
      "authorship_tag": "ABX9TyM1t8935ESg3cKF/Jjy/8CE"
    },
    "kernelspec": {
      "name": "python3",
      "display_name": "Python 3"
    },
    "language_info": {
      "name": "python"
    },
    "gpuClass": "standard",
    "accelerator": "GPU"
  },
  "cells": [
    {
      "cell_type": "code",
      "source": [
        "!pip install -q transformers datasets evaluate wandb"
      ],
      "metadata": {
        "id": "iTvyV2vhFjJ3"
      },
      "execution_count": null,
      "outputs": []
    },
    {
      "cell_type": "code",
      "execution_count": null,
      "metadata": {
        "id": "MTZp94-9A8Mf"
      },
      "outputs": [],
      "source": [
        "from datasets import load_dataset\n",
        "\n",
        "from evaluate import evaluator\n",
        "\n",
        "from huggingface_hub import notebook_login\n",
        "\n",
        "from sklearn.metrics import accuracy_score, f1_score\n",
        "\n",
        "import torch\n",
        "\n",
        "from torch.nn import CrossEntropyLoss\n",
        "\n",
        "from torch.optim import AdamW\n",
        "\n",
        "from transformers import AutoTokenizer, AutoModel, PreTrainedModel\n",
        "from transformers import Trainer, TrainingArguments\n",
        "\n",
        "from transformers import RobertaConfig\n",
        "\n",
        "from transformers.optimization import get_linear_schedule_with_warmup\n",
        "from transformers.modeling_outputs import SequenceClassifierOutput\n",
        "import wandb"
      ]
    },
    {
      "cell_type": "code",
      "source": [
        "%env WANDB_PROJECT=emotion_classifier"
      ],
      "metadata": {
        "id": "FvvXTHMPrGjt"
      },
      "execution_count": null,
      "outputs": []
    },
    {
      "cell_type": "code",
      "source": [
        "wandb.login()"
      ],
      "metadata": {
        "id": "KnIPHQ7-qsnQ"
      },
      "execution_count": null,
      "outputs": []
    },
    {
      "cell_type": "code",
      "source": [
        "notebook_login()"
      ],
      "metadata": {
        "id": "nUeYzOHrq26P"
      },
      "execution_count": null,
      "outputs": []
    },
    {
      "cell_type": "code",
      "source": [
        "device = \"cuda\" if torch.cuda.is_available() else \"cpu\""
      ],
      "metadata": {
        "id": "wq8FexcaGMGw"
      },
      "execution_count": null,
      "outputs": []
    },
    {
      "cell_type": "markdown",
      "source": [
        "## Tokenizer"
      ],
      "metadata": {
        "id": "dIHT0h-uvy_i"
      }
    },
    {
      "cell_type": "code",
      "source": [
        "tokenizer = AutoTokenizer.from_pretrained(\"roberta-base\")"
      ],
      "metadata": {
        "id": "hoUKEHGTajux"
      },
      "execution_count": null,
      "outputs": []
    },
    {
      "cell_type": "code",
      "source": [
        "def tokenization(sample):\n",
        "    return tokenizer(sample[\"text\"], padding=True, truncation=True)"
      ],
      "metadata": {
        "id": "WtFKa4SVageE"
      },
      "execution_count": null,
      "outputs": []
    },
    {
      "cell_type": "markdown",
      "source": [
        "## Dataset"
      ],
      "metadata": {
        "id": "tZaZE0YPvw0Y"
      }
    },
    {
      "cell_type": "code",
      "source": [
        "dataset = load_dataset(\"emotion\")"
      ],
      "metadata": {
        "id": "XLOQE-yrGjhZ"
      },
      "execution_count": null,
      "outputs": []
    },
    {
      "cell_type": "code",
      "source": [
        "dataset = dataset.map(tokenization, batched=True, batch_size=None)"
      ],
      "metadata": {
        "id": "N1Y-r15obTPp"
      },
      "execution_count": null,
      "outputs": []
    },
    {
      "cell_type": "code",
      "source": [
        "dataset.set_format(\"torch\", columns=[\"input_ids\", \"label\"])"
      ],
      "metadata": {
        "id": "YGsjKIq_wNWa"
      },
      "execution_count": null,
      "outputs": []
    },
    {
      "cell_type": "code",
      "source": [
        "id2label =  {\n",
        "    0: \"sadness\",\n",
        "    1: \"joy\",\n",
        "    2: \"love\",\n",
        "    3: \"anger\",\n",
        "    4: \"fear\",\n",
        "    5: \"surprise\"\n",
        "  }\n",
        "\n",
        "label2id = {\n",
        "    \"sadness\": 0,\n",
        "    \"joy\": 1,\n",
        "    \"love\": 2,\n",
        "    \"anger\": 3,\n",
        "    \"fear\": 4,\n",
        "    \"surprise\": 5\n",
        "  }"
      ],
      "metadata": {
        "id": "wrpWsH2-rFk0"
      },
      "execution_count": null,
      "outputs": []
    },
    {
      "cell_type": "markdown",
      "source": [
        "## Model"
      ],
      "metadata": {
        "id": "vbw8tpwfwDyE"
      }
    },
    {
      "cell_type": "code",
      "source": [
        "config = RobertaConfig.from_pretrained(\"roberta-base\", \n",
        "                                       id2label = id2label, \n",
        "                                       label2id = label2id, \n",
        "                                       num_labels = 6)"
      ],
      "metadata": {
        "id": "DY2KC7O3j938"
      },
      "execution_count": null,
      "outputs": []
    },
    {
      "cell_type": "code",
      "source": [
        "class RobertaEmotion(PreTrainedModel):\n",
        "    def __init__(self, config):\n",
        "        super().__init__(config)\n",
        "        self.num_labels = config.num_labels\n",
        "        self.backbone = AutoModel.from_pretrained(\"roberta-base\", config)\n",
        "        self.dropout = torch.nn.Dropout(p=0.1)\n",
        "        self.output = torch.nn.Linear(config.hidden_size, config.num_labels)\n",
        "\n",
        "    def forward(self, input_ids, labels=None, attention_mask=None):\n",
        "        model_output = self.backbone(input_ids)\n",
        "        hidden = model_output.last_hidden_state\n",
        "        logits = self.output(self.dropout(hidden[:, 0, :]))\n",
        "\n",
        "        loss = None\n",
        "        if labels is not None:\n",
        "            labels = labels.to(logits.device)\n",
        "            loss_fct = CrossEntropyLoss()\n",
        "            loss = loss_fct(logits.view(-1, self.num_labels), labels.view(-1))\n",
        "\n",
        "        return SequenceClassifierOutput(loss=loss, logits=logits)"
      ],
      "metadata": {
        "id": "YmRQgFzcYm4q"
      },
      "execution_count": null,
      "outputs": []
    },
    {
      "cell_type": "code",
      "source": [
        "model = RobertaEmotion(config).to(device)"
      ],
      "metadata": {
        "id": "l9Dg4VjGoTxM"
      },
      "execution_count": null,
      "outputs": []
    },
    {
      "cell_type": "markdown",
      "source": [
        "## Training"
      ],
      "metadata": {
        "id": "qGXulHvDwQq0"
      }
    },
    {
      "cell_type": "code",
      "source": [
        "model.base_model.requires_grad = False"
      ],
      "metadata": {
        "id": "ma099QuqibsE"
      },
      "execution_count": null,
      "outputs": []
    },
    {
      "cell_type": "code",
      "source": [
        "def compute_metrics(pred):\n",
        "    labels = pred.label_ids\n",
        "    preds = pred.predictions.argmax(-1)\n",
        "    f1 = f1_score(labels, preds, average=\"weighted\")\n",
        "    acc = accuracy_score(labels, preds)\n",
        "    return {\"accuracy\": acc, \"f1\": f1}"
      ],
      "metadata": {
        "id": "-Y8b4S-enJ3v"
      },
      "execution_count": null,
      "outputs": []
    },
    {
      "cell_type": "code",
      "source": [
        "batch_size = 64\n",
        "training_args = TrainingArguments(output_dir=\"results\",\n",
        "                                  num_train_epochs=8,\n",
        "                                  learning_rate=2e-5,\n",
        "                                  per_device_train_batch_size=batch_size,\n",
        "                                  per_device_eval_batch_size=batch_size,\n",
        "                                  load_best_model_at_end=True,\n",
        "                                  metric_for_best_model=\"f1\",\n",
        "                                  weight_decay=0.01,\n",
        "                                  evaluation_strategy=\"epoch\",\n",
        "                                  save_strategy=\"epoch\",\n",
        "                                  report_to=\"wandb\",\n",
        "                                  disable_tqdm=False,\n",
        "                                  push_to_hub=False,\n",
        "                                  hub_strategy=\"every_save\",\n",
        "                                  hub_model_id=\"ma2za/roberta-emotion\")"
      ],
      "metadata": {
        "id": "Uv01uCmCnK8b"
      },
      "execution_count": null,
      "outputs": []
    },
    {
      "cell_type": "code",
      "source": [
        "optimizer = AdamW(model.parameters(),lr= 2e-05, betas= (0.9, 0.999), eps= 1e-08)\n",
        "\n",
        "\n",
        "lr_scheduler = get_linear_schedule_with_warmup(optimizer, num_warmup_steps=0, num_training_steps=2000)\n",
        "\n",
        "\n",
        "trainer = Trainer(model=model, args=training_args,\n",
        "                  compute_metrics=compute_metrics,\n",
        "                  train_dataset=dataset[\"train\"],\n",
        "                  eval_dataset=dataset[\"validation\"], \n",
        "                  optimizers=[optimizer, lr_scheduler])\n",
        "trainer.train()\n",
        "\n",
        "wandb.finish()"
      ],
      "metadata": {
        "id": "uBrrPyZHnxIC"
      },
      "execution_count": null,
      "outputs": []
    },
    {
      "cell_type": "code",
      "source": [
        "model.push_to_hub(\"roberta-emotion\")\n",
        "tokenizer.push_to_hub(\"roberta-emotion\")"
      ],
      "metadata": {
        "id": "H2gG6GkffP7u"
      },
      "execution_count": null,
      "outputs": []
    },
    {
      "cell_type": "markdown",
      "source": [
        "## Evaluation"
      ],
      "metadata": {
        "id": "gkzTXnTWwVbT"
      }
    },
    {
      "cell_type": "code",
      "source": [
        "task_evaluator = evaluator(\"text-classification\")"
      ],
      "metadata": {
        "id": "nG4Csiq44C_u"
      },
      "execution_count": null,
      "outputs": []
    },
    {
      "cell_type": "code",
      "source": [
        "results = task_evaluator.compute(\n",
        "    model_or_pipeline=model,\n",
        "    tokenizer=tokenizer,\n",
        "    data=\"emotion\",\n",
        "    subset=\"split\",\n",
        "    split=\"validation\",\n",
        "    metric=\"accuracy\",\n",
        "    label_mapping=label2id,\n",
        "    strategy=\"bootstrap\",\n",
        "    n_resamples=10,\n",
        "    random_state=0\n",
        ")"
      ],
      "metadata": {
        "id": "Q4sBChKK6wnp"
      },
      "execution_count": null,
      "outputs": []
    },
    {
      "cell_type": "code",
      "source": [
        "results"
      ],
      "metadata": {
        "id": "Igw71enW7Bo5"
      },
      "execution_count": null,
      "outputs": []
    },
    {
      "cell_type": "code",
      "source": [],
      "metadata": {
        "id": "YgYcmLHw7CR1"
      },
      "execution_count": null,
      "outputs": []
    }
  ]
}